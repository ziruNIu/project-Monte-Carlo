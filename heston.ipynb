{
 "cells": [
  {
   "attachments": {},
   "cell_type": "markdown",
   "metadata": {},
   "source": [
    "# Heston "
   ]
  },
  {
   "cell_type": "code",
   "execution_count": 51,
   "metadata": {},
   "outputs": [
    {
     "name": "stdout",
     "output_type": "stream",
     "text": [
      "The autoreload extension is already loaded. To reload it, use:\n",
      "  %reload_ext autoreload\n"
     ]
    }
   ],
   "source": [
    "%load_ext autoreload\n",
    "%autoreload 2"
   ]
  },
  {
   "cell_type": "code",
   "execution_count": 112,
   "metadata": {},
   "outputs": [],
   "source": [
    "from heston_model import *\n",
    "import scipy.stats as stats\n",
    "from numpy.random import default_rng, SeedSequence\n",
    "import numpy as np\n",
    "import pandas as pd\n",
    "import scipy.stats as sps\n",
    "import matplotlib.pyplot as plt\n"
   ]
  },
  {
   "attachments": {},
   "cell_type": "markdown",
   "metadata": {},
   "source": [
    "# test semi-closed form solution"
   ]
  },
  {
   "cell_type": "code",
   "execution_count": 53,
   "metadata": {},
   "outputs": [],
   "source": [
    "def d_plus(s,k,v):\n",
    "    return np.log(s/k)/np.sqrt(v) + np.sqrt(v)/2\n",
    "\n",
    "def d_minus(s,k,v):\n",
    "    return np.log(s/k)/np.sqrt(v) - np.sqrt(v)/2\n",
    "def Call(K,r = 0.05,q = 0, sigma = 0.3,S_0 = 100, T = 1.5):\n",
    "    K_dc = K*np.exp(-r*T)\n",
    "    S_f = S_0*np.exp(-q*T)\n",
    "    return S_f*stats.norm.cdf(d_plus(S_f,K_dc,sigma**2*T))-K_dc*stats.norm.cdf(d_minus(S_f,K_dc,sigma**2*T))"
   ]
  },
  {
   "cell_type": "code",
   "execution_count": 54,
   "metadata": {},
   "outputs": [],
   "source": [
    "params = {\n",
    "    'T': 5.,\n",
    "    'r': 0.05,\n",
    "    'theta': 0.1,\n",
    "    'k': 1,\n",
    "    'sigma': 0.00001,\n",
    "    'rho': 0,\n",
    "    's0' : 1.0,\n",
    "    'v0': 0.1\n",
    "}"
   ]
  },
  {
   "cell_type": "code",
   "execution_count": 55,
   "metadata": {},
   "outputs": [],
   "source": [
    "params_test = {\n",
    "    'T': 5,\n",
    "    'r': 0.05,\n",
    "    'sigma': np.sqrt(0.1),\n",
    "    'S_0': 1.,\n",
    "    'K': 1\n",
    "}"
   ]
  },
  {
   "cell_type": "code",
   "execution_count": 57,
   "metadata": {},
   "outputs": [],
   "source": [
    "model = Heston(**params)\n",
    "assert np.isclose(Call(**params_test),model.call(1) )"
   ]
  },
  {
   "attachments": {},
   "cell_type": "markdown",
   "metadata": {},
   "source": [
    "# test schema "
   ]
  },
  {
   "cell_type": "code",
   "execution_count": 58,
   "metadata": {},
   "outputs": [],
   "source": [
    "sq = SeedSequence()\n",
    "rng = default_rng(sq)"
   ]
  },
  {
   "cell_type": "code",
   "execution_count": 79,
   "metadata": {},
   "outputs": [],
   "source": [
    "params = {\n",
    "    'T': 5.,\n",
    "    'r': 0.05,\n",
    "    'theta': 0.1,\n",
    "    'k': 1.1,\n",
    "    'sigma': 0.4,\n",
    "    'rho': -0.6,\n",
    "    's0' : 1.0,\n",
    "    'v0': 0.1\n",
    "}"
   ]
  },
  {
   "cell_type": "code",
   "execution_count": 80,
   "metadata": {},
   "outputs": [],
   "source": [
    "def monte_carlo(sample, name='', proba=0.95):\n",
    "    mean = np.mean(sample)\n",
    "    var = np.var(sample, ddof=1)\n",
    "    quantile = sps.norm.ppf(1 - (1-proba)/2)\n",
    "    ci_size = quantile * np.sqrt(var / sample.size)    \n",
    "    result = pd.DataFrame(\n",
    "        [mean, var, mean - ci_size, mean + ci_size], \n",
    "        index=(\"Mean\",\"Var\",\"Lower bound\", \"Upper bound\"), \n",
    "        columns=[name])\n",
    "    return result"
   ]
  },
  {
   "cell_type": "code",
   "execution_count": 88,
   "metadata": {},
   "outputs": [],
   "source": [
    "def compute_call_heston(heston, scheme, steps, K, M = 10000):\n",
    "    result = None\n",
    "    sdict = { \"Diop\": heston.paths_euler_diop , \"D-D\": heston.paths_euler_dd}\n",
    "\n",
    "    for N in steps:\n",
    "        dW1 = np.sqrt(heston.T / N) * rng.standard_normal((N, M))\n",
    "        dW2 = np.sqrt(heston.T / N) * rng.standard_normal((N, M))\n",
    "        paths, vol = sdict[scheme](dW1,dW2)\n",
    "        payoffs = np.exp(-heston.r * heston.T)* np.maximum(paths[N] - K, 0)\n",
    "        result = pd.concat([result, monte_carlo(payoffs, f'{scheme}, N = {N}')], axis = 1)\n",
    "    return result"
   ]
  },
  {
   "cell_type": "code",
   "execution_count": 104,
   "metadata": {},
   "outputs": [],
   "source": [
    "heston = Heston(**params)\n",
    "K = 0.5\n",
    "M = int(1e6)\n",
    "exact_price = heston.call(K)"
   ]
  },
  {
   "cell_type": "code",
   "execution_count": 103,
   "metadata": {},
   "outputs": [
    {
     "data": {
      "text/plain": [
       "0.6345625199951872"
      ]
     },
     "execution_count": 103,
     "metadata": {},
     "output_type": "execute_result"
    }
   ],
   "source": [
    "exact_price"
   ]
  },
  {
   "cell_type": "code",
   "execution_count": 111,
   "metadata": {},
   "outputs": [],
   "source": [
    "steps = 2**np.arange(1,8)\n",
    "res_Diop = compute_call_heston(heston, \"Diop\", steps, K = 0.5, M=M)"
   ]
  },
  {
   "cell_type": "code",
   "execution_count": 108,
   "metadata": {},
   "outputs": [
    {
     "data": {
      "text/html": [
       "<div>\n",
       "<style scoped>\n",
       "    .dataframe tbody tr th:only-of-type {\n",
       "        vertical-align: middle;\n",
       "    }\n",
       "\n",
       "    .dataframe tbody tr th {\n",
       "        vertical-align: top;\n",
       "    }\n",
       "\n",
       "    .dataframe thead th {\n",
       "        text-align: right;\n",
       "    }\n",
       "</style>\n",
       "<table border=\"1\" class=\"dataframe\">\n",
       "  <thead>\n",
       "    <tr style=\"text-align: right;\">\n",
       "      <th></th>\n",
       "      <th>Diop, N = 2</th>\n",
       "      <th>Diop, N = 4</th>\n",
       "      <th>Diop, N = 8</th>\n",
       "      <th>Diop, N = 16</th>\n",
       "      <th>Diop, N = 32</th>\n",
       "      <th>Diop, N = 64</th>\n",
       "      <th>Diop, N = 128</th>\n",
       "    </tr>\n",
       "  </thead>\n",
       "  <tbody>\n",
       "    <tr>\n",
       "      <th>Mean</th>\n",
       "      <td>0.659439</td>\n",
       "      <td>0.659232</td>\n",
       "      <td>0.645082</td>\n",
       "      <td>0.639479</td>\n",
       "      <td>0.635836</td>\n",
       "      <td>0.635429</td>\n",
       "      <td>0.635841</td>\n",
       "    </tr>\n",
       "    <tr>\n",
       "      <th>Var</th>\n",
       "      <td>0.426880</td>\n",
       "      <td>0.560525</td>\n",
       "      <td>0.501241</td>\n",
       "      <td>0.460842</td>\n",
       "      <td>0.438127</td>\n",
       "      <td>0.429498</td>\n",
       "      <td>0.423983</td>\n",
       "    </tr>\n",
       "    <tr>\n",
       "      <th>Lower bound</th>\n",
       "      <td>0.658158</td>\n",
       "      <td>0.657765</td>\n",
       "      <td>0.643695</td>\n",
       "      <td>0.638148</td>\n",
       "      <td>0.634539</td>\n",
       "      <td>0.634145</td>\n",
       "      <td>0.634565</td>\n",
       "    </tr>\n",
       "    <tr>\n",
       "      <th>Upper bound</th>\n",
       "      <td>0.660719</td>\n",
       "      <td>0.660699</td>\n",
       "      <td>0.646470</td>\n",
       "      <td>0.640809</td>\n",
       "      <td>0.637134</td>\n",
       "      <td>0.636714</td>\n",
       "      <td>0.637117</td>\n",
       "    </tr>\n",
       "  </tbody>\n",
       "</table>\n",
       "</div>"
      ],
      "text/plain": [
       "             Diop, N = 2  Diop, N = 4  Diop, N = 8  Diop, N = 16  \\\n",
       "Mean            0.659439     0.659232     0.645082      0.639479   \n",
       "Var             0.426880     0.560525     0.501241      0.460842   \n",
       "Lower bound     0.658158     0.657765     0.643695      0.638148   \n",
       "Upper bound     0.660719     0.660699     0.646470      0.640809   \n",
       "\n",
       "             Diop, N = 32  Diop, N = 64  Diop, N = 128  \n",
       "Mean             0.635836      0.635429       0.635841  \n",
       "Var              0.438127      0.429498       0.423983  \n",
       "Lower bound      0.634539      0.634145       0.634565  \n",
       "Upper bound      0.637134      0.636714       0.637117  "
      ]
     },
     "execution_count": 108,
     "metadata": {},
     "output_type": "execute_result"
    }
   ],
   "source": [
    "res_Diop"
   ]
  },
  {
   "cell_type": "code",
   "execution_count": 113,
   "metadata": {},
   "outputs": [
    {
     "data": {
      "image/png": "[encoded data removed]",
      "text/plain": [
       "<Figure size 640x480 with 1 Axes>"
      ]
     },
     "metadata": {},
     "output_type": "display_data"
    }
   ],
   "source": [
    "fig = plt.figure()\n",
    "ress = [res_Diop.values]\n",
    "names = ['Diop']\n",
    "colors = ['C0', 'C1']\n",
    "for res, name, color in zip(ress, names, colors):\n",
    "    m, up, down = [res[0], res[2], res[3]]\n",
    "    plt.plot(1/steps, m, color=color, label=name)\n",
    "    plt.plot(1/steps, up, color=color, alpha=0.2)\n",
    "    plt.plot(1/steps, down, color=color, alpha=0.2)\n",
    "    plt.fill_between(1/steps, up, down, color=color, alpha=0.2)\n",
    "    plt.plot(1/steps, exact_price*np.ones(len(steps)), color='grey')\n",
    "plt.xlabel('Time step h')\n",
    "plt.legend()\n",
    "plt.show()"
   ]
  }
 ],
 "metadata": {
  "kernelspec": {
   "display_name": "ml4t",
   "language": "python",
   "name": "python3"
  },
  "language_info": {
   "codemirror_mode": {
    "name": "ipython",
    "version": 3
   },
   "file_extension": ".py",
   "mimetype": "text/x-python",
   "name": "python",
   "nbconvert_exporter": "python",
   "pygments_lexer": "ipython3",
   "version": "3.10.9"
  },
  "orig_nbformat": 4
 },
 "nbformat": 4,
 "nbformat_minor": 2
}
