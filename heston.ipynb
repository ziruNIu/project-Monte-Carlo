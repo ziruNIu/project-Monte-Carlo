{
 "cells": [
  {
   "attachments": {},
   "cell_type": "markdown",
   "metadata": {},
   "source": [
    "# Heston "
   ]
  },
  {
   "cell_type": "code",
   "execution_count": 1,
   "metadata": {},
   "outputs": [],
   "source": [
    "%load_ext autoreload\n",
    "%autoreload 2"
   ]
  },
  {
   "cell_type": "code",
   "execution_count": 2,
   "metadata": {},
   "outputs": [],
   "source": [
    "from heston_model import *\n",
    "import scipy.stats as stats\n",
    "from numpy.random import default_rng, SeedSequence\n",
    "import numpy as np\n",
    "import pandas as pd\n",
    "import scipy.stats as sps\n",
    "import matplotlib.pyplot as plt\n"
   ]
  },
  {
   "cell_type": "code",
   "execution_count": 27,
   "metadata": {},
   "outputs": [],
   "source": [
    "idx = pd.IndexSlice"
   ]
  },
  {
   "attachments": {},
   "cell_type": "markdown",
   "metadata": {},
   "source": [
    "# test semi-closed form solution"
   ]
  },
  {
   "cell_type": "code",
   "execution_count": 3,
   "metadata": {},
   "outputs": [],
   "source": [
    "def d_plus(s,k,v):\n",
    "    return np.log(s/k)/np.sqrt(v) + np.sqrt(v)/2\n",
    "\n",
    "def d_minus(s,k,v):\n",
    "    return np.log(s/k)/np.sqrt(v) - np.sqrt(v)/2\n",
    "def Call(K,r = 0.05,q = 0, sigma = 0.3,S_0 = 100, T = 1.5):\n",
    "    K_dc = K*np.exp(-r*T)\n",
    "    S_f = S_0*np.exp(-q*T)\n",
    "    return S_f*stats.norm.cdf(d_plus(S_f,K_dc,sigma**2*T))-K_dc*stats.norm.cdf(d_minus(S_f,K_dc,sigma**2*T))"
   ]
  },
  {
   "cell_type": "code",
   "execution_count": 4,
   "metadata": {},
   "outputs": [],
   "source": [
    "params = {\n",
    "    'T': 5.,\n",
    "    'r': 0.05,\n",
    "    'theta': 0.1,\n",
    "    'k': 1,\n",
    "    'sigma': 0.00001,\n",
    "    'rho': 0,\n",
    "    's0' : 1.0,\n",
    "    'v0': 0.1\n",
    "}"
   ]
  },
  {
   "cell_type": "code",
   "execution_count": 5,
   "metadata": {},
   "outputs": [],
   "source": [
    "params_test = {\n",
    "    'T': 5,\n",
    "    'r': 0.05,\n",
    "    'sigma': np.sqrt(0.1),\n",
    "    'S_0': 1.,\n",
    "    'K': 1\n",
    "}"
   ]
  },
  {
   "cell_type": "code",
   "execution_count": 6,
   "metadata": {},
   "outputs": [
    {
     "name": "stderr",
     "output_type": "stream",
     "text": [
      "c:\\Users\\xziru\\OneDrive - Ecole Polytechnique\\Paris 6\\période 2\\projet Monte-Carlos\\project-Monte-Carlo\\heston_model.py:92: IntegrationWarning: The occurrence of roundoff error is detected, which prevents \n",
      "  the requested tolerance from being achieved.  The error may be \n",
      "  underestimated.\n",
      "  return  (0.5 + (1 / np.pi) * quad(integrand_1, 0, 100)[0]), (0.5 + (1 / np.pi) * quad(integrand_2, 0, 100)[0])\n",
      "c:\\Users\\xziru\\OneDrive - Ecole Polytechnique\\Paris 6\\période 2\\projet Monte-Carlos\\project-Monte-Carlo\\heston_model.py:92: IntegrationWarning: The integral is probably divergent, or slowly convergent.\n",
      "  return  (0.5 + (1 / np.pi) * quad(integrand_1, 0, 100)[0]), (0.5 + (1 / np.pi) * quad(integrand_2, 0, 100)[0])\n"
     ]
    }
   ],
   "source": [
    "model = Heston(**params)\n",
    "assert np.isclose(Call(**params_test),model.call(1) )"
   ]
  },
  {
   "attachments": {},
   "cell_type": "markdown",
   "metadata": {},
   "source": [
    "# test schema "
   ]
  },
  {
   "cell_type": "code",
   "execution_count": 7,
   "metadata": {},
   "outputs": [],
   "source": [
    "sq = SeedSequence()\n",
    "rng = default_rng(sq)"
   ]
  },
  {
   "cell_type": "code",
   "execution_count": 134,
   "metadata": {},
   "outputs": [],
   "source": [
    "params = {\n",
    "    'T': 5.,\n",
    "    'r': 0.05,\n",
    "    'theta': 0.1,\n",
    "    'k': 1.1,\n",
    "    'sigma': 0.4,\n",
    "    'rho': -0.6,\n",
    "    's0' : 1.0,\n",
    "    'v0': 0.1\n",
    "}"
   ]
  },
  {
   "cell_type": "code",
   "execution_count": 135,
   "metadata": {},
   "outputs": [],
   "source": [
    "def monte_carlo(sample, proba=0.95):\n",
    "    mean = np.mean(sample)\n",
    "    var = np.var(sample, ddof=1)\n",
    "    quantile = sps.norm.ppf(1 - (1-proba)/2)\n",
    "    ci_size = quantile * np.sqrt(var / sample.size)    \n",
    "    result = pd.Series(\n",
    "        [mean, var, mean - ci_size, mean + ci_size], \n",
    "        index=[\"Mean\",\"Var\",\"Lower bound\", \"Upper bound\"] )\n",
    "    return result"
   ]
  },
  {
   "cell_type": "code",
   "execution_count": 136,
   "metadata": {},
   "outputs": [],
   "source": [
    "def compute_call_heston(heston, scheme_types, steps, K, M = 10000):\n",
    "    results = pd.DataFrame(index = [\"Mean\",\"Var\",\"Lower bound\", \"Upper bound\"], \n",
    "                           columns=pd.MultiIndex.from_product([scheme_types, steps], names=['type', 'step']), dtype=float)\n",
    "    \n",
    "\n",
    "    for N in steps:\n",
    "        dW1 = np.sqrt(heston.T / N) * rng.standard_normal((N, M))\n",
    "        dW2 = np.sqrt(heston.T / N) * rng.standard_normal((N, M))\n",
    "        for scheme_type in scheme_types:\n",
    "            paths, vol = heston.paths_euler(scheme_type,dW1, dW2)\n",
    "            payoffs = np.exp(-heston.r * heston.T)* np.maximum(paths[N] - K, 0)\n",
    "            results.loc[:,(scheme_type, N)] = monte_carlo(payoffs)\n",
    "    # results = results.T\n",
    "    return results.T.assign(step_width = lambda df: 1/df.index.get_level_values('step').to_numpy())"
   ]
  },
  {
   "cell_type": "code",
   "execution_count": 137,
   "metadata": {},
   "outputs": [],
   "source": [
    "heston = Heston(**params)\n",
    "K = 0.5\n",
    "M = int(1e6)\n",
    "exact_price = heston.call(K)"
   ]
  },
  {
   "cell_type": "code",
   "execution_count": 138,
   "metadata": {},
   "outputs": [
    {
     "data": {
      "text/plain": [
       "0.6345625199951872"
      ]
     },
     "execution_count": 138,
     "metadata": {},
     "output_type": "execute_result"
    }
   ],
   "source": [
    "exact_price"
   ]
  },
  {
   "cell_type": "code",
   "execution_count": 142,
   "metadata": {},
   "outputs": [],
   "source": [
    "step_width = np.linspace(0.01,0.4,20)\n",
    "steps = np.unique(np.round(1/step_width).astype(int))"
   ]
  },
  {
   "cell_type": "code",
   "execution_count": 143,
   "metadata": {},
   "outputs": [],
   "source": [
    "# steps = 2**np.arange(1,8)\n",
    "res_Diop = compute_call_heston(heston, [\"Diop\",\"implicit_3\"], steps, K = 0.5, M=M)"
   ]
  },
  {
   "cell_type": "code",
   "execution_count": 144,
   "metadata": {},
   "outputs": [],
   "source": [
    "def plot_confidence_interval(df,idx):\n",
    "    name, df = df\n",
    "    color = f'C{idx}'\n",
    "    step_width, m, up, down = (df.step_width.to_numpy(),df.Mean.to_numpy(), df['Upper bound'].to_numpy(),df['Lower bound'].to_numpy())\n",
    "    plt.plot(step_width, df.Mean)\n",
    "    plt.plot(1/steps, m, color=color, label=name)\n",
    "    plt.plot(1/steps, up, color=color, alpha=0.2)\n",
    "    plt.plot(1/steps, down, color=color, alpha=0.2)\n",
    "    plt.fill_between(1/steps, up, down, color=color, alpha=0.2)\n",
    "    plt.plot(1/steps, exact_price*np.ones(len(steps)), color='grey')"
   ]
  },
  {
   "cell_type": "code",
   "execution_count": 145,
   "metadata": {},
   "outputs": [
    {
     "data": {
      "image/png": "[encoded data removed]",
      "text/plain": [
       "<Figure size 640x480 with 1 Axes>"
      ]
     },
     "metadata": {},
     "output_type": "display_data"
    }
   ],
   "source": [
    "for idxs, df in enumerate(res_Diop.groupby(level=0)):\n",
    "    plot_confidence_interval(df,idxs)\n",
    "    plt.legend()"
   ]
  }
 ],
 "metadata": {
  "kernelspec": {
   "display_name": "ml4t",
   "language": "python",
   "name": "python3"
  },
  "language_info": {
   "codemirror_mode": {
    "name": "ipython",
    "version": 3
   },
   "file_extension": ".py",
   "mimetype": "text/x-python",
   "name": "python",
   "nbconvert_exporter": "python",
   "pygments_lexer": "ipython3",
   "version": "3.10.9"
  },
  "orig_nbformat": 4
 },
 "nbformat": 4,
 "nbformat_minor": 2
}
