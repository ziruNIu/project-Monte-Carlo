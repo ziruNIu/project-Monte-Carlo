{
 "cells": [
  {
   "attachments": {},
   "cell_type": "markdown",
   "metadata": {},
   "source": [
    "# Heston "
   ]
  },
  {
   "cell_type": "code",
   "execution_count": 2,
   "metadata": {},
   "outputs": [
    {
     "name": "stdout",
     "output_type": "stream",
     "text": [
      "The autoreload extension is already loaded. To reload it, use:\n",
      "  %reload_ext autoreload\n"
     ]
    }
   ],
   "source": [
    "%load_ext autoreload\n",
    "%autoreload 2"
   ]
  },
  {
   "cell_type": "code",
   "execution_count": 57,
   "metadata": {},
   "outputs": [],
   "source": [
    "from heston_model import *\n",
    "import scipy.stats as stats"
   ]
  },
  {
   "attachments": {},
   "cell_type": "markdown",
   "metadata": {},
   "source": [
    "# test function"
   ]
  },
  {
   "cell_type": "code",
   "execution_count": 58,
   "metadata": {},
   "outputs": [],
   "source": [
    "def d_plus(s,k,v):\n",
    "    return np.log(s/k)/np.sqrt(v) + np.sqrt(v)/2\n",
    "\n",
    "def d_minus(s,k,v):\n",
    "    return np.log(s/k)/np.sqrt(v) - np.sqrt(v)/2\n",
    "def Call(K,r = 0.05,q = 0, sigma = 0.3,S_0 = 100, T = 1.5):\n",
    "    K_dc = K*np.exp(-r*T)\n",
    "    S_f = S_0*np.exp(-q*T)\n",
    "    return S_f*stats.norm.cdf(d_plus(S_f,K_dc,sigma**2*T))-K_dc*stats.norm.cdf(d_minus(S_f,K_dc,sigma**2*T))"
   ]
  },
  {
   "cell_type": "code",
   "execution_count": 74,
   "metadata": {},
   "outputs": [],
   "source": [
    "params = {\n",
    "    'T': 5.,\n",
    "    'r': 0.05,\n",
    "    'theta': 0.1,\n",
    "    'kappa': 1,\n",
    "    'sigma': 0.00001,\n",
    "    'rho': -0.6,\n",
    "    's0' : 1.0,\n",
    "    'v0': 0.1\n",
    "}"
   ]
  },
  {
   "cell_type": "code",
   "execution_count": 67,
   "metadata": {},
   "outputs": [],
   "source": [
    "params_test = {\n",
    "    'T': 5,\n",
    "    'r': 0.05,\n",
    "    'sigma': np.sqrt(0.1),\n",
    "    'S_0': 1.,\n",
    "    'K': 1\n",
    "}"
   ]
  },
  {
   "cell_type": "code",
   "execution_count": 68,
   "metadata": {},
   "outputs": [
    {
     "data": {
      "text/plain": [
       "0.3708495473708209"
      ]
     },
     "execution_count": 68,
     "metadata": {},
     "output_type": "execute_result"
    }
   ],
   "source": [
    "Call(**params_test)"
   ]
  },
  {
   "cell_type": "code",
   "execution_count": 75,
   "metadata": {},
   "outputs": [
    {
     "name": "stdout",
     "output_type": "stream",
     "text": [
      "0.37084896754038194\n"
     ]
    }
   ],
   "source": [
    "model = Heston(**params)\n",
    "print(model.call(1))"
   ]
  }
 ],
 "metadata": {
  "kernelspec": {
   "display_name": "ml4t",
   "language": "python",
   "name": "python3"
  },
  "language_info": {
   "codemirror_mode": {
    "name": "ipython",
    "version": 3
   },
   "file_extension": ".py",
   "mimetype": "text/x-python",
   "name": "python",
   "nbconvert_exporter": "python",
   "pygments_lexer": "ipython3",
   "version": "3.8.13"
  },
  "orig_nbformat": 4
 },
 "nbformat": 4,
 "nbformat_minor": 2
}
